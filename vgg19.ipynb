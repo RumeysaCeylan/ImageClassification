{
  "nbformat": 4,
  "nbformat_minor": 0,
  "metadata": {
    "colab": {
      "private_outputs": true,
      "provenance": [],
      "mount_file_id": "1k6gA28kLmtUsMmNoRu2KiyjlSHU5kTG2",
      "authorship_tag": "ABX9TyNXpmMheyCPEydxZurO+ryj",
      "include_colab_link": true
    },
    "kernelspec": {
      "name": "python3",
      "display_name": "Python 3"
    },
    "language_info": {
      "name": "python"
    },
    "accelerator": "GPU",
    "gpuClass": "standard"
  },
  "cells": [
    {
      "cell_type": "markdown",
      "metadata": {
        "id": "view-in-github",
        "colab_type": "text"
      },
      "source": [
        "<a href=\"https://colab.research.google.com/github/RumeysaCeylan/ImageClassification/blob/main/vgg19.ipynb\" target=\"_parent\"><img src=\"https://colab.research.google.com/assets/colab-badge.svg\" alt=\"Open In Colab\"/></a>"
      ]
    },
    {
      "cell_type": "code",
      "execution_count": null,
      "metadata": {
        "id": "oXuS6HnAKzjt"
      },
      "outputs": [],
      "source": [
        "from keras.layers import Input, Lambda, Dense, Flatten\n",
        "from keras.models import Model, load_model\n",
        "from keras.applications.vgg19 import VGG19\n",
        "from keras.applications.vgg19 import preprocess_input\n",
        "from keras.preprocessing import image\n",
        "from keras.preprocessing.image import ImageDataGenerator\n",
        "from keras.models import Sequential\n",
        "import numpy as np\n",
        "from glob import glob\n",
        "import cv2\n",
        "import matplotlib.pyplot as plt\n",
        "from skimage.io import imread, imshow\n",
        "from tensorflow.keras.preprocessing.image import load_img, img_to_array\n",
        "from tqdm import tqdm"
      ]
    },
    {
      "cell_type": "code",
      "source": [
        "from google.colab import drive\n",
        "drive.mount('/content/drive')"
      ],
      "metadata": {
        "id": "WjpVYC6UPAmH"
      },
      "execution_count": null,
      "outputs": []
    },
    {
      "cell_type": "code",
      "source": [
        "IMAGE_SIZE=[224,224]\n",
        "train_dir=glob(\"/content/drive/MyDrive/archive/Dataset\")\n",
        "test_dir = glob(\"/content/drive/MyDrive/archive/Test\")"
      ],
      "metadata": {
        "id": "SenA4lkTPEFJ"
      },
      "execution_count": null,
      "outputs": []
    },
    {
      "cell_type": "code",
      "source": [
        "train_datagen = ImageDataGenerator(rescale = 1./255,\n",
        "                                   shear_range = 0.2,\n",
        "                                   zoom_range = 0.2,\n",
        "                                   horizontal_flip = True)\n",
        "\n",
        "test_datagen = ImageDataGenerator(rescale = 1./255)\n",
        "\n",
        "\n",
        "\n",
        "\n",
        "# Make sure you provide the same target size as initialied for the image size\n",
        "training_set = train_datagen.flow_from_directory('/content/drive/MyDrive//archive/Dataset',\n",
        "                                                 target_size = (224, 224),\n",
        "                                                 batch_size = 128,\n",
        "                                                 class_mode = 'categorical')\n",
        "\n",
        "\n",
        "\n",
        "\n",
        "test_set = test_datagen.flow_from_directory('/content/drive/MyDrive/archive/Test',\n",
        "                                            target_size = (224, 224),\n",
        "                                            batch_size = 128,\n",
        "                                            class_mode = 'categorical')"
      ],
      "metadata": {
        "id": "ELSwsfC9Nb_O"
      },
      "execution_count": null,
      "outputs": []
    },
    {
      "cell_type": "code",
      "source": [
        "fig, ax = plt.subplots(nrows = 1, ncols = 5, figsize=(20,20))\n",
        "\n",
        "for i in tqdm(range(0,5)):\n",
        "    rand1 = np.random.randint(len(training_set))\n",
        "    rand2 = np.random.randint(100)\n",
        "    ax[i].imshow(training_set[rand1][0][rand2])\n",
        "    ax[i].axis('off')\n",
        "    a = training_set[rand1][1][rand2]\n",
        "    if a[0] == 1:\n",
        "        ax[i].set_title('Mild Dementia')\n",
        "    elif a[1] == 1:\n",
        "        ax[i].set_title('Moderate Dementia')\n",
        "    elif a[2] == 1:\n",
        "        ax[i].set_title('Non Dementia')\n",
        "    elif a[3] == 1:\n",
        "        ax[i].set_title('Very Mild Dementia')"
      ],
      "metadata": {
        "id": "c2vhxRuiNZRl"
      },
      "execution_count": null,
      "outputs": []
    },
    {
      "cell_type": "code",
      "source": [
        "vgg = VGG19(input_shape=IMAGE_SIZE + [3], weights='imagenet', include_top=False)"
      ],
      "metadata": {
        "id": "HzrKAn3hPPRy"
      },
      "execution_count": null,
      "outputs": []
    },
    {
      "cell_type": "code",
      "source": [
        "for layer in vgg.layers:\n",
        "  layer.trainable = False"
      ],
      "metadata": {
        "id": "sltJLRUlPURi"
      },
      "execution_count": null,
      "outputs": []
    },
    {
      "cell_type": "code",
      "source": [
        "folders=glob(\"/content/drive/MyDrive/archive/Dataset/*\")\n",
        "folders"
      ],
      "metadata": {
        "id": "xU9drqB9PpSD"
      },
      "execution_count": null,
      "outputs": []
    },
    {
      "cell_type": "code",
      "source": [
        "x = Flatten()(vgg.output)"
      ],
      "metadata": {
        "id": "N0DTi-afP0L5"
      },
      "execution_count": null,
      "outputs": []
    },
    {
      "cell_type": "code",
      "source": [
        "prediction = Dense(len(folders), activation='softmax')(x)\n",
        " \n",
        "# creating a model object\n",
        "model = Model(inputs=vgg.input, outputs=prediction)"
      ],
      "metadata": {
        "id": "HVcMSsq-P4hD"
      },
      "execution_count": null,
      "outputs": []
    },
    {
      "cell_type": "code",
      "source": [
        "model.summary()"
      ],
      "metadata": {
        "id": "OypjgR1fP7gM"
      },
      "execution_count": null,
      "outputs": []
    },
    {
      "cell_type": "code",
      "source": [
        "import tensorflow \n",
        "\n",
        "OPT    = tensorflow.keras.optimizers.Adam(lr=0.001)\n",
        "\n",
        "model.compile(loss='categorical_crossentropy',\n",
        "              metrics=[tensorflow.keras.metrics.AUC(name = 'auc')],\n",
        "              optimizer=OPT)\n"
      ],
      "metadata": {
        "id": "ynj8ea2IOjGa"
      },
      "execution_count": null,
      "outputs": []
    },
    {
      "cell_type": "code",
      "source": [
        "from tensorflow.keras.callbacks import EarlyStopping, ModelCheckpoint\n",
        "filepath = './content/drive/MyDrive/Colab Notebooks/best_weights.hdf5'\n",
        "\n",
        "earlystopping = EarlyStopping(monitor = 'val_auc', \n",
        "                              mode = 'max' , \n",
        "                              patience = 15,\n",
        "                              verbose = 1)\n",
        "\n",
        "checkpoint    = ModelCheckpoint(filepath, \n",
        "                                monitor = 'val_auc', \n",
        "                                mode='max', \n",
        "                                save_best_only=True, \n",
        "                                verbose = 1)\n",
        "\n",
        "\n",
        "callback_list = [earlystopping, checkpoint]"
      ],
      "metadata": {
        "id": "lOVtthuaPVfP"
      },
      "execution_count": null,
      "outputs": []
    },
    {
      "cell_type": "code",
      "source": [
        "model.compile(\n",
        "  loss='categorical_crossentropy',\n",
        "  optimizer='adam',\n",
        "  metrics=['accuracy']\n",
        ")"
      ],
      "metadata": {
        "id": "kqvgcbw7P-70"
      },
      "execution_count": null,
      "outputs": []
    },
    {
      "cell_type": "code",
      "source": [
        "from keras.preprocessing.image import ImageDataGenerator"
      ],
      "metadata": {
        "id": "gl1-N-aIQqIK"
      },
      "execution_count": null,
      "outputs": []
    },
    {
      "cell_type": "code",
      "source": [
        "\n",
        "# fiting the model\n",
        " \n",
        "r = model.fit(\n",
        "  training_set,\n",
        "  validation_data=test_set,\n",
        "  epochs=50,\n",
        "  steps_per_epoch=len(training_set),\n",
        "  validation_steps=len(test_set)\n",
        ")\n"
      ],
      "metadata": {
        "id": "hzOrHqAwREAN"
      },
      "execution_count": null,
      "outputs": []
    },
    {
      "cell_type": "code",
      "source": [
        "model.evaluate(test_set)"
      ],
      "metadata": {
        "id": "uTStEZBnRSXb"
      },
      "execution_count": null,
      "outputs": []
    },
    {
      "cell_type": "code",
      "source": [
        "# Test Case 1: Non-Dementia\n",
        "\n",
        "dic = test_set.class_indices\n",
        "idc = {k:v for v, k in dic.items()}\n",
        "\n",
        "img = load_img('/content/drive/MyDrive/archive/Test/Non_Demented/non_105.jpg', target_size = (224,224,3))\n",
        "img = img_to_array(img)\n",
        "img = img/255\n",
        "imshow(img)\n",
        "plt.axis('off')\n",
        "img = np.expand_dims(img,axis=0)\n",
        "#answer = model.predict_classes(img)\n",
        "answer = np.argmax(model.predict(img), axis=1)\n",
        "#probability = round(np.max(model.predict_proba(img)*100),2)\n",
        "probability=round(np.max(model.predict_on_batch(img)*100),2)\n",
        "print(probability, '% chances are there that the image is',idc[answer[0]])"
      ],
      "metadata": {
        "id": "CL69nyZ7s0rV"
      },
      "execution_count": null,
      "outputs": []
    },
    {
      "cell_type": "code",
      "source": [
        "# Test Case 1: Non-Dementia\n",
        "\n",
        "dic = test_set.class_indices\n",
        "idc = {k:v for v, k in dic.items()}\n",
        "\n",
        "img = load_img('/content/drive/MyDrive/archive/Test/Mild_Demented/mild_113.jpg', target_size = (224,224,3))\n",
        "img = img_to_array(img)\n",
        "img = img/255\n",
        "imshow(img)\n",
        "plt.axis('off')\n",
        "img = np.expand_dims(img,axis=0)\n",
        "#answer = model.predict_classes(img)\n",
        "answer = np.argmax(model.predict(img), axis=1)\n",
        "#probability = round(np.max(model.predict_proba(img)*100),2)\n",
        "probability=round(np.max(model.predict_on_batch(img)*100),2)\n",
        "print(probability, '% chances are there that the image is',idc[answer[0]])"
      ],
      "metadata": {
        "id": "8j7ab5sZtR25"
      },
      "execution_count": null,
      "outputs": []
    },
    {
      "cell_type": "code",
      "source": [],
      "metadata": {
        "id": "4b9rkkuwuVa2"
      },
      "execution_count": null,
      "outputs": []
    }
  ]
}